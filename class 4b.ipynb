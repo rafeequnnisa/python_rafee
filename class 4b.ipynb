{
 "cells": [
  {
   "cell_type": "code",
   "execution_count": 1,
   "id": "193edf3a",
   "metadata": {},
   "outputs": [],
   "source": [
    "name:\"rafeequnnisa\""
   ]
  },
  {
   "cell_type": "code",
   "execution_count": 3,
   "id": "3ce4083d",
   "metadata": {},
   "outputs": [],
   "source": [
    "age:(19)"
   ]
  },
  {
   "cell_type": "code",
   "execution_count": null,
   "id": "ea293b2a",
   "metadata": {},
   "outputs": [],
   "source": []
  },
  {
   "cell_type": "markdown",
   "id": "3e5b378c",
   "metadata": {},
   "source": []
  }
 ],
 "metadata": {
  "kernelspec": {
   "display_name": "Python 3 (ipykernel)",
   "language": "python",
   "name": "python3"
  },
  "language_info": {
   "codemirror_mode": {
    "name": "ipython",
    "version": 3
   },
   "file_extension": ".py",
   "mimetype": "text/x-python",
   "name": "python",
   "nbconvert_exporter": "python",
   "pygments_lexer": "ipython3",
   "version": "3.10.9"
  }
 },
 "nbformat": 4,
 "nbformat_minor": 5
}
